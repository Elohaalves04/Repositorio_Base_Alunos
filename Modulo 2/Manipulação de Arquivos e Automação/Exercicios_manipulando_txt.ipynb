{
  "cells": [
    {
      "cell_type": "markdown",
      "id": "ec2b2ae4",
      "metadata": {
        "id": "ec2b2ae4"
      },
      "source": [
        "### Exercício 1: Criando e escrevendo em um arquivo\n",
        "\n",
        "Crie um arquivo chamado meu_arquivo.txt e escreva nele a seguinte frase: \"Estou criando esse arquivo de texto em Python!\""
      ]
    },
    {
      "cell_type": "code",
      "execution_count": 8,
      "id": "cffe2a6d",
      "metadata": {
        "id": "cffe2a6d"
      },
      "outputs": [],
      "source": [
        "with open('meu_arquivo.txt', 'w') as f:\n",
        "    f.write('Estou criando esse arquivo de texto em Python!\\n')"
      ]
    },
    {
      "cell_type": "markdown",
      "id": "4b3f7a89",
      "metadata": {
        "id": "4b3f7a89"
      },
      "source": [
        "### Exercício 2: Lendo o conteúdo do arquivo\n",
        "\n",
        "\n",
        "Agora leia o conteúdo do arquivo meu_arquivo.txt que você criou no exercício anterior e mostre-o na tela."
      ]
    },
    {
      "cell_type": "code",
      "execution_count": 9,
      "id": "e5edc612",
      "metadata": {
        "id": "e5edc612"
      },
      "outputs": [
        {
          "name": "stdout",
          "output_type": "stream",
          "text": [
            "Estou criando esse arquivo de texto em Python!\n",
            "\n"
          ]
        }
      ],
      "source": [
        "with open('meu_arquivo.txt', 'r') as f:\n",
        "    conteudo = f.read()\n",
        "    print(conteudo)"
      ]
    },
    {
      "cell_type": "markdown",
      "id": "8184fdba",
      "metadata": {
        "id": "8184fdba"
      },
      "source": [
        "### Exercício 3: Adicionando mais texto\n",
        "\n",
        "Adicione a seguinte frase em uma nova linha do mesmo arquivo: \"Agora estou aprendendo a manipular arquivos!\""
      ]
    },
    {
      "cell_type": "code",
      "execution_count": 10,
      "id": "723d1e8d",
      "metadata": {
        "id": "723d1e8d"
      },
      "outputs": [],
      "source": [
        "with open('meu_arquivo.txt', 'a') as f:\n",
        "    f.write('Agora estou aprendendo a manipular arquivos!\\n')"
      ]
    },
    {
      "cell_type": "markdown",
      "id": "82c4eb19",
      "metadata": {
        "id": "82c4eb19"
      },
      "source": [
        "### Exercício 4: Contando linhas\n",
        "\n",
        "Crie um programa que conta quantas linhas tem o arquivo meu_arquivo.txt e mostra o resultado."
      ]
    },
    {
      "cell_type": "code",
      "execution_count": 19,
      "id": "fd757b5e",
      "metadata": {
        "id": "fd757b5e"
      },
      "outputs": [
        {
          "name": "stdout",
          "output_type": "stream",
          "text": [
            "2\n"
          ]
        }
      ],
      "source": [
        "with open('meu_arquivo.txt', 'r') as f:\n",
        "    conteudo = f.readlines()\n",
        "    print(len(conteudo))"
      ]
    },
    {
      "cell_type": "markdown",
      "id": "6bc0b78f",
      "metadata": {
        "id": "6bc0b78f"
      },
      "source": [
        "### Exercício 5: Lista de compras\n",
        "\n",
        "Crie um arquivo chamado compras.txt e escreva nele, cada um em uma linha, os seguintes itens: \"Maçã\", \"Banana\", \"Leite\", \"Pão\"."
      ]
    },
    {
      "cell_type": "code",
      "execution_count": 35,
      "id": "97bb5660",
      "metadata": {
        "id": "97bb5660"
      },
      "outputs": [],
      "source": [
        "with open('compras.txt', 'w', encoding ='utf-8') as f: \n",
        "    f.write('Maçã\\n')\n",
        "    f.write('Banana\\n')\n",
        "    f.write('Leite\\n')\n",
        "    f.write('Pão\\n')"
      ]
    },
    {
      "cell_type": "markdown",
      "id": "71cf0898",
      "metadata": {
        "id": "71cf0898"
      },
      "source": [
        "### Exercício 6: Lendo linhas específicas\n",
        "\n",
        "\n",
        "Leia o arquivo compras.txt e mostre apenas o segundo item da lista (Banana)."
      ]
    },
    {
      "cell_type": "code",
      "execution_count": 49,
      "id": "6d705e94",
      "metadata": {
        "id": "6d705e94"
      },
      "outputs": [
        {
          "name": "stdout",
          "output_type": "stream",
          "text": [
            "Banana\n",
            "\n"
          ]
        }
      ],
      "source": [
        "with open('compras.txt', 'r') as f:\n",
        "    conteudo = f.readlines()\n",
        "    print(conteudo[1])"
      ]
    },
    {
      "cell_type": "markdown",
      "id": "bc372146",
      "metadata": {
        "id": "bc372146"
      },
      "source": [
        "### Exercício 7: Adicionando itens\n",
        "\n",
        "Peça ao usuário para digitar um novo item e adicione-o ao final da lista no arquivo compras.txt."
      ]
    },
    {
      "cell_type": "code",
      "execution_count": 50,
      "id": "a6e7617c",
      "metadata": {
        "id": "a6e7617c"
      },
      "outputs": [],
      "source": [
        "item = input('Adicione um novo item: ')\n",
        "\n",
        "with open('compras.txt', 'a') as f:\n",
        "    f.write(item)\n"
      ]
    },
    {
      "cell_type": "markdown",
      "id": "b434b909",
      "metadata": {
        "id": "b434b909"
      },
      "source": [
        "### Exercício 8: Copiando arquivos\n",
        "\n",
        "Crie um programa que copia todo o conteúdo de meu_arquivo.txt para um novo arquivo chamado copia.txt."
      ]
    },
    {
      "cell_type": "code",
      "execution_count": 60,
      "id": "3aab9832",
      "metadata": {
        "id": "3aab9832"
      },
      "outputs": [],
      "source": [
        "with open('meu_arquivo.txt', 'r') as f:\n",
        "    conteudo = f.read()\n",
        "\n",
        "with open ('copia.txt', 'w') as f:\n",
        "    f.write(conteudo)"
      ]
    },
    {
      "cell_type": "markdown",
      "id": "b24e8386",
      "metadata": {
        "id": "b24e8386"
      },
      "source": [
        "### Exercício 9: Contando palavras\n",
        "\n",
        "Crie um programa que conta quantas palavras tem no arquivo meu_arquivo.txt (considere que as palavras são separadas por espaços)."
      ]
    },
    {
      "cell_type": "code",
      "execution_count": 64,
      "id": "896d7462",
      "metadata": {
        "id": "896d7462"
      },
      "outputs": [
        {
          "name": "stdout",
          "output_type": "stream",
          "text": [
            "14\n"
          ]
        }
      ],
      "source": [
        "with open('meu_arquivo.txt', 'r') as f:\n",
        "    conteudo = f.read()\n",
        "    print(len(conteudo.split()))"
      ]
    },
    {
      "cell_type": "markdown",
      "id": "3bbe37c9",
      "metadata": {
        "id": "3bbe37c9"
      },
      "source": [
        "### Exercício 10: Juntando arquivos\n",
        "\n",
        "\n",
        "Crie um programa que lê o conteúdo de meu_arquivo.txt e compras.txt e cria um novo arquivo chamado juntado.txt com o conteúdo dos dois arquivos, um após o outro."
      ]
    },
    {
      "cell_type": "code",
      "execution_count": 68,
      "id": "c932924e",
      "metadata": {
        "id": "c932924e"
      },
      "outputs": [
        {
          "ename": "ValueError",
          "evalue": "invalid mode: 'compras.txtr'",
          "output_type": "error",
          "traceback": [
            "\u001b[31m---------------------------------------------------------------------------\u001b[39m",
            "\u001b[31mValueError\u001b[39m                                Traceback (most recent call last)",
            "\u001b[36mCell\u001b[39m\u001b[36m \u001b[39m\u001b[32mIn[68]\u001b[39m\u001b[32m, line 1\u001b[39m\n\u001b[32m----> \u001b[39m\u001b[32m1\u001b[39m \u001b[38;5;28;01mwith\u001b[39;00m \u001b[38;5;28;43mopen\u001b[39;49m\u001b[43m(\u001b[49m\u001b[33;43m'\u001b[39;49m\u001b[33;43mmeu_arquivo.txt\u001b[39;49m\u001b[33;43m'\u001b[39;49m\u001b[43m,\u001b[49m\u001b[33;43m'\u001b[39;49m\u001b[33;43mcompras.txt\u001b[39;49m\u001b[33;43m'\u001b[39;49m\u001b[43m \u001b[49m\u001b[33;43m'\u001b[39;49m\u001b[33;43mr\u001b[39;49m\u001b[33;43m'\u001b[39;49m\u001b[43m,\u001b[49m\u001b[43m \u001b[49m\u001b[43mencoding\u001b[49m\u001b[43m \u001b[49m\u001b[43m=\u001b[49m\u001b[43m \u001b[49m\u001b[33;43m'\u001b[39;49m\u001b[33;43mutf-8\u001b[39;49m\u001b[33;43m'\u001b[39;49m\u001b[43m)\u001b[49m \u001b[38;5;28;01mas\u001b[39;00m f:\n\u001b[32m      2\u001b[39m     conteudo = f.read()\n\u001b[32m      5\u001b[39m \u001b[38;5;28;01mwith\u001b[39;00m \u001b[38;5;28mopen\u001b[39m(\u001b[33m'\u001b[39m\u001b[33mjuntado.txt\u001b[39m\u001b[33m'\u001b[39m, \u001b[33m'\u001b[39m\u001b[33mw\u001b[39m\u001b[33m'\u001b[39m, encoding = \u001b[33m'\u001b[39m\u001b[33mutf-8\u001b[39m\u001b[33m'\u001b[39m) \u001b[38;5;28;01mas\u001b[39;00m f:\n",
            "\u001b[36mFile \u001b[39m\u001b[32m~\\AppData\\Roaming\\Python\\Python313\\site-packages\\IPython\\core\\interactiveshell.py:343\u001b[39m, in \u001b[36m_modified_open\u001b[39m\u001b[34m(file, *args, **kwargs)\u001b[39m\n\u001b[32m    336\u001b[39m \u001b[38;5;28;01mif\u001b[39;00m file \u001b[38;5;129;01min\u001b[39;00m {\u001b[32m0\u001b[39m, \u001b[32m1\u001b[39m, \u001b[32m2\u001b[39m}:\n\u001b[32m    337\u001b[39m     \u001b[38;5;28;01mraise\u001b[39;00m \u001b[38;5;167;01mValueError\u001b[39;00m(\n\u001b[32m    338\u001b[39m         \u001b[33mf\u001b[39m\u001b[33m\"\u001b[39m\u001b[33mIPython won\u001b[39m\u001b[33m'\u001b[39m\u001b[33mt let you open fd=\u001b[39m\u001b[38;5;132;01m{\u001b[39;00mfile\u001b[38;5;132;01m}\u001b[39;00m\u001b[33m by default \u001b[39m\u001b[33m\"\u001b[39m\n\u001b[32m    339\u001b[39m         \u001b[33m\"\u001b[39m\u001b[33mas it is likely to crash IPython. If you know what you are doing, \u001b[39m\u001b[33m\"\u001b[39m\n\u001b[32m    340\u001b[39m         \u001b[33m\"\u001b[39m\u001b[33myou can use builtins\u001b[39m\u001b[33m'\u001b[39m\u001b[33m open.\u001b[39m\u001b[33m\"\u001b[39m\n\u001b[32m    341\u001b[39m     )\n\u001b[32m--> \u001b[39m\u001b[32m343\u001b[39m \u001b[38;5;28;01mreturn\u001b[39;00m \u001b[43mio_open\u001b[49m\u001b[43m(\u001b[49m\u001b[43mfile\u001b[49m\u001b[43m,\u001b[49m\u001b[43m \u001b[49m\u001b[43m*\u001b[49m\u001b[43margs\u001b[49m\u001b[43m,\u001b[49m\u001b[43m \u001b[49m\u001b[43m*\u001b[49m\u001b[43m*\u001b[49m\u001b[43mkwargs\u001b[49m\u001b[43m)\u001b[49m\n",
            "\u001b[31mValueError\u001b[39m: invalid mode: 'compras.txtr'"
          ]
        }
      ],
      "source": [
        "with open('meu_arquivo.txt','compras.txt' 'r', encoding = 'utf-8') as f:\n",
        "    conteudo = f.read()\n",
        "\n",
        "\n",
        "with open('juntado.txt', 'w', encoding = 'utf-8') as f:\n",
        "    f.write(conteudo)"
      ]
    }
  ],
  "metadata": {
    "colab": {
      "provenance": []
    },
    "kernelspec": {
      "display_name": "Python 3",
      "language": "python",
      "name": "python3"
    },
    "language_info": {
      "codemirror_mode": {
        "name": "ipython",
        "version": 3
      },
      "file_extension": ".py",
      "mimetype": "text/x-python",
      "name": "python",
      "nbconvert_exporter": "python",
      "pygments_lexer": "ipython3",
      "version": "3.13.2"
    }
  },
  "nbformat": 4,
  "nbformat_minor": 5
}
